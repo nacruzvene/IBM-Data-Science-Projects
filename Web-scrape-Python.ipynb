{
 "cells": [
  {
   "cell_type": "markdown",
   "metadata": {},
   "source": [
    "<h1>Web Scrape Example in Python</h1>"
   ]
  },
  {
   "cell_type": "markdown",
   "metadata": {},
   "source": [
    "<strong>Welcome!</strong> In this notebook we will scrape the following Wikipedia page <a>https://en.wikipedia.org/wiki/List_of_postal_codes_of_Canada:_M</a> in order to obtain the data that is in the table of postal codes and to transform the data into a pandas dataframe."
   ]
  },
  {
   "cell_type": "markdown",
   "metadata": {},
   "source": [
    "Dataframe contents:\n",
    "\n",
    "- The dataframe will consist of three columns: PostalCode, Borough, and Neighborhood\n",
    "- Only process the cells that have an assigned borough. Ignore cells with a borough that is Not assigned.\n",
    "- If a cell has a borough but a Not assigned neighborhood, then the neighborhood will be the same as the borough. \n",
    "- More than one neighborhood can exist in one postal code area. Rows will be combined into one row with the neighborhoods separated with a comma based on same postal code."
   ]
  },
  {
   "cell_type": "code",
   "execution_count": 5,
   "metadata": {},
   "outputs": [],
   "source": [
    "# !pip install beautifulsoup4"
   ]
  },
  {
   "cell_type": "code",
   "execution_count": 6,
   "metadata": {},
   "outputs": [],
   "source": [
    "# required libraries\n",
    "import requests #to handle requests\n",
    "from bs4 import BeautifulSoup #to parse structured data"
   ]
  },
  {
   "cell_type": "code",
   "execution_count": 7,
   "metadata": {},
   "outputs": [
    {
     "name": "stdout",
     "output_type": "stream",
     "text": [
      "<Response [200]>\n"
     ]
    }
   ],
   "source": [
    "url = 'https://en.wikipedia.org/wiki/List_of_postal_codes_of_Canada:_M'\n",
    "#Access the url with requests library\n",
    "response = requests.get(url)\n",
    "print(response) #200 means access was successful"
   ]
  },
  {
   "cell_type": "code",
   "execution_count": 8,
   "metadata": {},
   "outputs": [],
   "source": [
    "#parse the html with BeautifulSoup to work with a nicer, \n",
    "#nested BeautifulSoup data structure\n",
    "data_soup = BeautifulSoup(response.content, 'html.parser')\n",
    "# data_soup"
   ]
  },
  {
   "cell_type": "markdown",
   "metadata": {},
   "source": [
    "The table is under wikitable sortable class which can be identified by right clicking the table and then click inspect. So, a table with wikitable sortable class will be searched by find function. "
   ]
  },
  {
   "cell_type": "code",
   "execution_count": 9,
   "metadata": {},
   "outputs": [],
   "source": [
    "results=data_soup.find('table', class_='wikitable sortable')"
   ]
  },
  {
   "cell_type": "markdown",
   "metadata": {},
   "source": [
    "A table in HTML is comprised of rows denoted by the tags **\\<tr>\\</tr>**. \n",
    "Each row has cells which can either be headings defined using **\\<th>\\</th>** or data defined using **\\<td>\\</td>**."
   ]
  },
  {
   "cell_type": "code",
   "execution_count": 11,
   "metadata": {},
   "outputs": [
    {
     "name": "stdout",
     "output_type": "stream",
     "text": [
      "[<th>Postcode</th>, <th>Borough</th>, <th>Neighbourhood\n",
      "</th>]\n",
      "<tr>\n",
      "<td>M1A</td>\n",
      "<td>Not assigned</td>\n",
      "<td>Not assigned\n",
      "</td></tr>\n"
     ]
    }
   ],
   "source": [
    "columns=results.find_all('th')\n",
    "rows=results.find_all('tr')[1:] #slicing to get rid of headings\n",
    "# print(results)\n",
    "print(columns)\n",
    "print(rows[0])"
   ]
  },
  {
   "cell_type": "markdown",
   "metadata": {},
   "source": [
    "Now to get the value within the opening and closing tags of an element, **get_text()** will be used. Additionally, **strip()** removes any additional leading and trailing spaces that might be present in the text. If needed, any specific value such as new line character \\n can be removed."
   ]
  },
  {
   "cell_type": "code",
   "execution_count": 20,
   "metadata": {},
   "outputs": [
    {
     "name": "stdout",
     "output_type": "stream",
     "text": [
      "['Postcode', 'Borough', 'Neighbourhood']\n",
      "['M1A', 'Not assigned', 'Not assigned']\n"
     ]
    }
   ],
   "source": [
    "#creating headers by removing <th>\\</th> tags in list comprehension\n",
    "headers=[columns[i].get_text().strip()for i in range(0,len(columns))]\n",
    "# for i in range(0,len(columns)):\n",
    "#      columns[i]=str(columns[i]).replace('<th>', '').replace('</th>', '').replace('\\n', '')\n",
    "print(headers)\n",
    "\n",
    "data_content = []\n",
    "for i in range(0,len(rows)):\n",
    "    cells = rows[i].find_all('td') #all table cells marked by td  data\n",
    "    data_content.append([cells[0].get_text().strip(), cells[1].get_text().strip(), cells[2].get_text().strip()])\n",
    "print(data_content[0])"
   ]
  },
  {
   "cell_type": "markdown",
   "metadata": {},
   "source": [
    "Now the pandas library will be used to convert data into tabular structure and efficiently manipulate data with predefined functions."
   ]
  },
  {
   "cell_type": "code",
   "execution_count": 25,
   "metadata": {},
   "outputs": [
    {
     "data": {
      "text/html": [
       "<div>\n",
       "<style scoped>\n",
       "    .dataframe tbody tr th:only-of-type {\n",
       "        vertical-align: middle;\n",
       "    }\n",
       "\n",
       "    .dataframe tbody tr th {\n",
       "        vertical-align: top;\n",
       "    }\n",
       "\n",
       "    .dataframe thead th {\n",
       "        text-align: right;\n",
       "    }\n",
       "</style>\n",
       "<table border=\"1\" class=\"dataframe\">\n",
       "  <thead>\n",
       "    <tr style=\"text-align: right;\">\n",
       "      <th></th>\n",
       "      <th>Postcode</th>\n",
       "      <th>Borough</th>\n",
       "      <th>Neighbourhood</th>\n",
       "    </tr>\n",
       "  </thead>\n",
       "  <tbody>\n",
       "    <tr>\n",
       "      <th>0</th>\n",
       "      <td>M1A</td>\n",
       "      <td>Not assigned</td>\n",
       "      <td>Not assigned</td>\n",
       "    </tr>\n",
       "    <tr>\n",
       "      <th>1</th>\n",
       "      <td>M2A</td>\n",
       "      <td>Not assigned</td>\n",
       "      <td>Not assigned</td>\n",
       "    </tr>\n",
       "    <tr>\n",
       "      <th>2</th>\n",
       "      <td>M3A</td>\n",
       "      <td>North York</td>\n",
       "      <td>Parkwoods</td>\n",
       "    </tr>\n",
       "    <tr>\n",
       "      <th>3</th>\n",
       "      <td>M4A</td>\n",
       "      <td>North York</td>\n",
       "      <td>Victoria Village</td>\n",
       "    </tr>\n",
       "    <tr>\n",
       "      <th>4</th>\n",
       "      <td>M5A</td>\n",
       "      <td>Downtown Toronto</td>\n",
       "      <td>Harbourfront</td>\n",
       "    </tr>\n",
       "  </tbody>\n",
       "</table>\n",
       "</div>"
      ],
      "text/plain": [
       "  Postcode           Borough     Neighbourhood\n",
       "0      M1A      Not assigned      Not assigned\n",
       "1      M2A      Not assigned      Not assigned\n",
       "2      M3A        North York         Parkwoods\n",
       "3      M4A        North York  Victoria Village\n",
       "4      M5A  Downtown Toronto      Harbourfront"
      ]
     },
     "execution_count": 25,
     "metadata": {},
     "output_type": "execute_result"
    }
   ],
   "source": [
    "import pandas as pd\n",
    "#cretaing dataframe of the data and also use respective headers\n",
    "df=pd.DataFrame(data=data_content,columns=headers)\n",
    "# df.columns = [columns[0],columns[1],columns[2]]\n",
    "df.head()#to show first five rows"
   ]
  },
  {
   "cell_type": "code",
   "execution_count": 31,
   "metadata": {},
   "outputs": [
    {
     "data": {
      "text/html": [
       "<div>\n",
       "<style scoped>\n",
       "    .dataframe tbody tr th:only-of-type {\n",
       "        vertical-align: middle;\n",
       "    }\n",
       "\n",
       "    .dataframe tbody tr th {\n",
       "        vertical-align: top;\n",
       "    }\n",
       "\n",
       "    .dataframe thead th {\n",
       "        text-align: right;\n",
       "    }\n",
       "</style>\n",
       "<table border=\"1\" class=\"dataframe\">\n",
       "  <thead>\n",
       "    <tr style=\"text-align: right;\">\n",
       "      <th></th>\n",
       "      <th>Postcode</th>\n",
       "      <th>Borough</th>\n",
       "      <th>Neighbourhood</th>\n",
       "    </tr>\n",
       "  </thead>\n",
       "  <tbody>\n",
       "    <tr>\n",
       "      <th>2</th>\n",
       "      <td>M3A</td>\n",
       "      <td>North York</td>\n",
       "      <td>Parkwoods</td>\n",
       "    </tr>\n",
       "    <tr>\n",
       "      <th>3</th>\n",
       "      <td>M4A</td>\n",
       "      <td>North York</td>\n",
       "      <td>Victoria Village</td>\n",
       "    </tr>\n",
       "    <tr>\n",
       "      <th>4</th>\n",
       "      <td>M5A</td>\n",
       "      <td>Downtown Toronto</td>\n",
       "      <td>Harbourfront</td>\n",
       "    </tr>\n",
       "    <tr>\n",
       "      <th>5</th>\n",
       "      <td>M6A</td>\n",
       "      <td>North York</td>\n",
       "      <td>Lawrence Heights</td>\n",
       "    </tr>\n",
       "    <tr>\n",
       "      <th>6</th>\n",
       "      <td>M6A</td>\n",
       "      <td>North York</td>\n",
       "      <td>Lawrence Manor</td>\n",
       "    </tr>\n",
       "  </tbody>\n",
       "</table>\n",
       "</div>"
      ],
      "text/plain": [
       "  Postcode           Borough     Neighbourhood\n",
       "2      M3A        North York         Parkwoods\n",
       "3      M4A        North York  Victoria Village\n",
       "4      M5A  Downtown Toronto      Harbourfront\n",
       "5      M6A        North York  Lawrence Heights\n",
       "6      M6A        North York    Lawrence Manor"
      ]
     },
     "execution_count": 31,
     "metadata": {},
     "output_type": "execute_result"
    }
   ],
   "source": [
    "#Ignore cells with a borough that is Not assigned.\n",
    "df2=df[df.Borough != 'Not assigned']\n",
    "#replacing not assigned neighbourhoods with the borough names\n",
    "df2.Neighbourhood.replace('Not assigned', df.Borough, inplace=True)\n",
    "# d2 = df[df.Neighbourhood != 'Not assigned'] and df[df.Borough == 'Not assigned']\n",
    "df2.head()"
   ]
  },
  {
   "cell_type": "code",
   "execution_count": 36,
   "metadata": {},
   "outputs": [
    {
     "name": "stdout",
     "output_type": "stream",
     "text": [
      "  Postcode      Borough                           Neighbourhood\n",
      "0      M1B  Scarborough                          Rouge, Malvern\n",
      "1      M1C  Scarborough  Highland Creek, Rouge Hill, Port Union\n",
      "2      M1E  Scarborough       Guildwood, Morningside, West Hill\n",
      "3      M1G  Scarborough                                  Woburn\n",
      "4      M1H  Scarborough                               Cedarbrae\n",
      "\n",
      "\n",
      "    Postcode    Borough                                      Neighbourhood\n",
      "101      M9V  Etobicoke  Albion Gardens, Beaumond Heights, Humbergate, ...\n"
     ]
    }
   ],
   "source": [
    "#Grouping more than one neighborhood based on same postal code \n",
    "#and add comma by apply func and also reset the indexing\n",
    "df3=df2.groupby(['Postcode', 'Borough'])['Neighbourhood'].apply(', '.join).reset_index()\n",
    "# df=df.groupby('Postcode')['Borough','Neighbourhood'].agg(', '.join).reset_index()\n",
    "print(df3.head())\n",
    "print('\\n')\n",
    "#checking for particular postal code\n",
    "print(df3.loc[df3['Postcode']=='M9V'])"
   ]
  },
  {
   "cell_type": "code",
   "execution_count": 37,
   "metadata": {},
   "outputs": [
    {
     "data": {
      "text/plain": [
       "(103, 3)"
      ]
     },
     "execution_count": 37,
     "metadata": {},
     "output_type": "execute_result"
    }
   ],
   "source": [
    "# Checking the number of rows of the dataframe\n",
    "df3.shape"
   ]
  },
  {
   "cell_type": "code",
   "execution_count": 40,
   "metadata": {},
   "outputs": [],
   "source": [
    "#saving to a csv file\n",
    "df3.to_csv('toronto_neighburhoods.csv',index=False)"
   ]
  },
  {
   "cell_type": "markdown",
   "metadata": {},
   "source": [
    "This notebook is part of an assignment of a course on **Coursera** called *Applied Data Science Capstone*. The course can be taken online by clicking [here](http://cocl.us/DP0701EN_Coursera_Week3_LAB2)."
   ]
  }
 ],
 "metadata": {
  "kernelspec": {
   "display_name": "Python",
   "language": "python",
   "name": "conda-env-python-py"
  },
  "language_info": {
   "codemirror_mode": {
    "name": "ipython",
    "version": 3
   },
   "file_extension": ".py",
   "mimetype": "text/x-python",
   "name": "python",
   "nbconvert_exporter": "python",
   "pygments_lexer": "ipython3",
   "version": "3.6.7"
  }
 },
 "nbformat": 4,
 "nbformat_minor": 4
}
